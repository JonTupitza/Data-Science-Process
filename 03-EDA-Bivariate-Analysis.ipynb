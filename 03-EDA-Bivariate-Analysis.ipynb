{
 "cells": [
  {
   "cell_type": "markdown",
   "metadata": {},
   "source": [
    "## Perform Exploratory Data Analysis - Bivariate\n",
    "- Examine each independent (predictor) feature in relation to the dependent (response) feature\n",
    "- Form initial hypotheses regarding their level of correlation to the outcome"
   ]
  },
  {
   "cell_type": "code",
   "execution_count": 1,
   "metadata": {
    "collapsed": true
   },
   "outputs": [],
   "source": [
    "import os\n",
    "import pandas as pd\n",
    "import matplotlib.pyplot as plt\n",
    "%matplotlib inline"
   ]
  },
  {
   "cell_type": "code",
   "execution_count": 2,
   "metadata": {
    "collapsed": true
   },
   "outputs": [],
   "source": [
    "# Read the cleaned source file into a DataFrame.\n",
    "data_dir = os.path.join(os.getcwd(), 'Data')\n",
    "source_file = os.path.join(data_dir, 'WA-Telco-Customer-Churn-EDA.xlsx')\n",
    "df = pd.read_excel(source_file, header=0)"
   ]
  },
  {
   "cell_type": "code",
   "execution_count": 3,
   "metadata": {},
   "outputs": [
    {
     "data": {
      "text/plain": [
       "customerID            object\n",
       "gender              category\n",
       "SeniorCitizen       category\n",
       "Partner             category\n",
       "Dependents          category\n",
       "tenure                 int64\n",
       "PhoneService        category\n",
       "MultipleLines       category\n",
       "InternetService     category\n",
       "OnlineSecurity      category\n",
       "OnlineBackup        category\n",
       "DeviceProtection    category\n",
       "TechSupport         category\n",
       "StreamingTV         category\n",
       "StreamingMovies     category\n",
       "Contract            category\n",
       "PaperlessBilling    category\n",
       "PaymentMethod       category\n",
       "MonthlyCharges       float64\n",
       "TotalCharges         float64\n",
       "Churn               category\n",
       "dtype: object"
      ]
     },
     "execution_count": 3,
     "metadata": {},
     "output_type": "execute_result"
    }
   ],
   "source": [
    "# Make appropriate data type assignments.\n",
    "df.gender = df.gender.astype('category')\n",
    "df.SeniorCitizen = df.SeniorCitizen.astype('category')\n",
    "df.Partner = df.Partner.astype('category')\n",
    "df.Dependents = df.Dependents.astype('category')\n",
    "df.PhoneService = df.PhoneService.astype('category')\n",
    "df.MultipleLines = df.MultipleLines.astype('category')\n",
    "df.InternetService = df.InternetService.astype('category')\n",
    "df.OnlineSecurity = df.OnlineSecurity.astype('category')\n",
    "df.OnlineBackup = df.OnlineBackup.astype('category')\n",
    "df.DeviceProtection = df.DeviceProtection.astype('category')\n",
    "df.TechSupport = df.TechSupport.astype('category')\n",
    "df.StreamingTV = df.StreamingTV.astype('category')\n",
    "df.StreamingMovies = df.StreamingMovies.astype('category')\n",
    "df.Contract = df.Contract.astype('category')\n",
    "df.PaperlessBilling = df.PaperlessBilling.astype('category')\n",
    "df.PaymentMethod = df.PaymentMethod.astype('category')\n",
    "df.TotalCharges = pd.to_numeric(df.TotalCharges, errors='coerce')\n",
    "df.Churn = df.Churn.astype('category')\n",
    "\n",
    "# Validate new data type assignments.\n",
    "df.dtypes"
   ]
  },
  {
   "cell_type": "code",
   "execution_count": null,
   "metadata": {
    "collapsed": true
   },
   "outputs": [],
   "source": [
    "# Get Descriptive statistics regarding all numeric features.\n",
    "df.describe()"
   ]
  },
  {
   "cell_type": "markdown",
   "metadata": {},
   "source": [
    "### Create Box-and-Whisker Plots"
   ]
  },
  {
   "cell_type": "code",
   "execution_count": 4,
   "metadata": {},
   "outputs": [
    {
     "data": {
      "text/plain": [
       "<matplotlib.axes._subplots.AxesSubplot at 0x20805168e80>"
      ]
     },
     "execution_count": 4,
     "metadata": {},
     "output_type": "execute_result"
    },
    {
     "data": {
      "image/png": "[encoded data removed]",
      "text/plain": [
       "<matplotlib.figure.Figure at 0x20804d405c0>"
      ]
     },
     "metadata": {},
     "output_type": "display_data"
    }
   ],
   "source": [
    "df.boxplot(column=\"tenure\", by=\"Churn\", figsize= (9,6))"
   ]
  },
  {
   "cell_type": "code",
   "execution_count": null,
   "metadata": {
    "collapsed": true
   },
   "outputs": [],
   "source": [
    "df.boxplot(column=\"MonthlyCharges\", by=\"Churn\", figsize= (9,6))"
   ]
  },
  {
   "cell_type": "code",
   "execution_count": null,
   "metadata": {
    "collapsed": true
   },
   "outputs": [],
   "source": [
    "df.boxplot(column=\"TotalCharges\", by=\"Churn\", figsize= (9,6))"
   ]
  },
  {
   "cell_type": "markdown",
   "metadata": {},
   "source": [
    "### Create Frequency Tables and Stacked Bar Charts"
   ]
  },
  {
   "cell_type": "code",
   "execution_count": 5,
   "metadata": {},
   "outputs": [
    {
     "data": {
      "text/html": [
       "<div>\n",
       "<style>\n",
       "    .dataframe thead tr:only-child th {\n",
       "        text-align: right;\n",
       "    }\n",
       "\n",
       "    .dataframe thead th {\n",
       "        text-align: left;\n",
       "    }\n",
       "\n",
       "    .dataframe tbody tr th {\n",
       "        vertical-align: top;\n",
       "    }\n",
       "</style>\n",
       "<table border=\"1\" class=\"dataframe\">\n",
       "  <thead>\n",
       "    <tr style=\"text-align: right;\">\n",
       "      <th>gender</th>\n",
       "      <th>Female</th>\n",
       "      <th>Male</th>\n",
       "    </tr>\n",
       "    <tr>\n",
       "      <th>Churn</th>\n",
       "      <th></th>\n",
       "      <th></th>\n",
       "    </tr>\n",
       "  </thead>\n",
       "  <tbody>\n",
       "    <tr>\n",
       "      <th>No</th>\n",
       "      <td>2549</td>\n",
       "      <td>2625</td>\n",
       "    </tr>\n",
       "    <tr>\n",
       "      <th>Yes</th>\n",
       "      <td>939</td>\n",
       "      <td>930</td>\n",
       "    </tr>\n",
       "  </tbody>\n",
       "</table>\n",
       "</div>"
      ],
      "text/plain": [
       "gender  Female  Male\n",
       "Churn               \n",
       "No        2549  2625\n",
       "Yes        939   930"
      ]
     },
     "execution_count": 5,
     "metadata": {},
     "output_type": "execute_result"
    }
   ],
   "source": [
    "churn_gender_df = pd.crosstab(index=df[\"Churn\"], columns=df[\"gender\"])\n",
    "churn_gender_df"
   ]
  },
  {
   "cell_type": "code",
   "execution_count": 6,
   "metadata": {},
   "outputs": [
    {
     "data": {
      "text/plain": [
       "<matplotlib.axes._subplots.AxesSubplot at 0x208052d21d0>"
      ]
     },
     "execution_count": 6,
     "metadata": {},
     "output_type": "execute_result"
    },
    {
     "data": {
      "image/png": "[encoded data removed]",
      "text/plain": [
       "<matplotlib.figure.Figure at 0x20804f95d30>"
      ]
     },
     "metadata": {},
     "output_type": "display_data"
    }
   ],
   "source": [
    "churn_gender_df.plot(kind=\"barh\", figsize=(6,4), stacked=True)"
   ]
  },
  {
   "cell_type": "code",
   "execution_count": null,
   "metadata": {
    "collapsed": true
   },
   "outputs": [],
   "source": [
    "churn_senior_df = pd.crosstab(index=df[\"Churn\"], columns=df[\"SeniorCitizen\"])\n",
    "churn_senior_df"
   ]
  },
  {
   "cell_type": "code",
   "execution_count": null,
   "metadata": {
    "collapsed": true
   },
   "outputs": [],
   "source": [
    "churn_senior_df.plot(kind=\"barh\", figsize=(6,4), stacked=True)"
   ]
  },
  {
   "cell_type": "code",
   "execution_count": null,
   "metadata": {
    "collapsed": true
   },
   "outputs": [],
   "source": [
    "churn_partner_df = pd.crosstab(index=df[\"Churn\"], columns=df['Partner'])\n",
    "churn_partner_df"
   ]
  },
  {
   "cell_type": "code",
   "execution_count": null,
   "metadata": {
    "collapsed": true
   },
   "outputs": [],
   "source": [
    "churn_partner_df.plot(kind=\"barh\", figsize=(6,4), stacked=True)"
   ]
  },
  {
   "cell_type": "code",
   "execution_count": null,
   "metadata": {
    "collapsed": true
   },
   "outputs": [],
   "source": [
    "churn_dependents_df = pd.crosstab(index=df[\"Churn\"], columns=df[\"Dependents\"])\n",
    "churn_dependents_df"
   ]
  },
  {
   "cell_type": "code",
   "execution_count": null,
   "metadata": {
    "collapsed": true
   },
   "outputs": [],
   "source": [
    "churn_dependents_df.plot(kind=\"barh\", figsize=(6,4), stacked=True)"
   ]
  },
  {
   "cell_type": "code",
   "execution_count": null,
   "metadata": {
    "collapsed": true
   },
   "outputs": [],
   "source": [
    "churn_phonesvc_df = pd.crosstab(index=df[\"Churn\"], columns=df[\"PhoneService\"])\n",
    "churn_phonesvc_df"
   ]
  },
  {
   "cell_type": "code",
   "execution_count": null,
   "metadata": {
    "collapsed": true
   },
   "outputs": [],
   "source": [
    "churn_phonesvc_df.plot(kind=\"barh\", figsize=(6,4), stacked=True)"
   ]
  },
  {
   "cell_type": "code",
   "execution_count": null,
   "metadata": {
    "collapsed": true
   },
   "outputs": [],
   "source": [
    "churn_multilines_df = pd.crosstab(index=df[\"Churn\"], columns=df[\"MultipleLines\"])\n",
    "churn_multilines_df"
   ]
  },
  {
   "cell_type": "code",
   "execution_count": null,
   "metadata": {
    "collapsed": true
   },
   "outputs": [],
   "source": [
    "churn_multilines_df.plot(kind=\"barh\", figsize=(6,4), stacked=True)"
   ]
  },
  {
   "cell_type": "code",
   "execution_count": null,
   "metadata": {
    "collapsed": true
   },
   "outputs": [],
   "source": [
    "churn_intservice_df = pd.crosstab(index=df[\"Churn\"], columns=df[\"InternetService\"])\n",
    "churn_intservice_df"
   ]
  },
  {
   "cell_type": "code",
   "execution_count": null,
   "metadata": {
    "collapsed": true
   },
   "outputs": [],
   "source": [
    "churn_intservice_df.plot(kind=\"barh\", figsize=(6,4), stacked=True)"
   ]
  },
  {
   "cell_type": "code",
   "execution_count": null,
   "metadata": {
    "collapsed": true
   },
   "outputs": [],
   "source": [
    "churn_onlinesec_df = pd.crosstab(index=df[\"Churn\"], columns=df[\"OnlineSecurity\"])\n",
    "churn_onlinesec_df"
   ]
  },
  {
   "cell_type": "code",
   "execution_count": null,
   "metadata": {
    "collapsed": true
   },
   "outputs": [],
   "source": [
    "churn_onlinesec_df.plot(kind=\"barh\", figsize=(6,4), stacked=True)"
   ]
  },
  {
   "cell_type": "code",
   "execution_count": null,
   "metadata": {
    "collapsed": true
   },
   "outputs": [],
   "source": [
    "churn_olbackup_df = pd.crosstab(index=df[\"Churn\"], columns=df[\"OnlineBackup\"])\n",
    "churn_olbackup_df"
   ]
  },
  {
   "cell_type": "code",
   "execution_count": null,
   "metadata": {
    "collapsed": true
   },
   "outputs": [],
   "source": [
    "churn_olbackup_df.plot(kind=\"barh\", figsize=(6,4), stacked=True)"
   ]
  },
  {
   "cell_type": "code",
   "execution_count": null,
   "metadata": {
    "collapsed": true
   },
   "outputs": [],
   "source": [
    "churn_devprotect_df = pd.crosstab(index=df[\"Churn\"], columns=df[\"DeviceProtection\"])\n",
    "churn_devprotect_df"
   ]
  },
  {
   "cell_type": "code",
   "execution_count": null,
   "metadata": {
    "collapsed": true
   },
   "outputs": [],
   "source": [
    "churn_devprotect_df.plot(kind=\"barh\", figsize=(6,4), stacked=True)"
   ]
  },
  {
   "cell_type": "code",
   "execution_count": null,
   "metadata": {
    "collapsed": true
   },
   "outputs": [],
   "source": [
    "churn_tekspt_df = pd.crosstab(index=df[\"Churn\"], columns=df[\"TechSupport\"])\n",
    "churn_tekspt_df"
   ]
  },
  {
   "cell_type": "code",
   "execution_count": null,
   "metadata": {
    "collapsed": true
   },
   "outputs": [],
   "source": [
    "churn_tekspt_df.plot(kind=\"barh\", figsize=(6,4), stacked=True)"
   ]
  },
  {
   "cell_type": "code",
   "execution_count": null,
   "metadata": {
    "collapsed": true
   },
   "outputs": [],
   "source": [
    "churn_tv_df = pd.crosstab(index=df[\"Churn\"], columns=df[\"StreamingTV\"])\n",
    "churn_tv_df"
   ]
  },
  {
   "cell_type": "code",
   "execution_count": null,
   "metadata": {
    "collapsed": true
   },
   "outputs": [],
   "source": [
    "churn_tv_df.plot(kind=\"barh\", figsize=(6,4), stacked=True)"
   ]
  },
  {
   "cell_type": "code",
   "execution_count": null,
   "metadata": {
    "collapsed": true
   },
   "outputs": [],
   "source": [
    "churn_movies_df = pd.crosstab(index=df[\"Churn\"], columns=df[\"StreamingMovies\"])\n",
    "churn_movies_df"
   ]
  },
  {
   "cell_type": "code",
   "execution_count": null,
   "metadata": {
    "collapsed": true
   },
   "outputs": [],
   "source": [
    "churn_movies_df.plot(kind=\"barh\", figsize=(6,4), stacked=True)"
   ]
  },
  {
   "cell_type": "code",
   "execution_count": null,
   "metadata": {
    "collapsed": true
   },
   "outputs": [],
   "source": [
    "churn_contract_df = pd.crosstab(index=df[\"Churn\"], columns=df[\"Contract\"])\n",
    "churn_contract_df"
   ]
  },
  {
   "cell_type": "code",
   "execution_count": null,
   "metadata": {
    "collapsed": true
   },
   "outputs": [],
   "source": [
    "churn_contract_df.plot(kind=\"barh\", figsize=(6,4), stacked=True)"
   ]
  },
  {
   "cell_type": "code",
   "execution_count": null,
   "metadata": {
    "collapsed": true
   },
   "outputs": [],
   "source": [
    "churn_billing_df = pd.crosstab(index=df[\"Churn\"], columns=df[\"PaperlessBilling\"])\n",
    "churn_billing_df"
   ]
  },
  {
   "cell_type": "code",
   "execution_count": null,
   "metadata": {
    "collapsed": true
   },
   "outputs": [],
   "source": [
    "churn_billing_df.plot(kind=\"barh\", figsize=(6,4), stacked=True)"
   ]
  },
  {
   "cell_type": "code",
   "execution_count": null,
   "metadata": {
    "collapsed": true
   },
   "outputs": [],
   "source": [
    "churn_paymeth_df = pd.crosstab(index=df[\"Churn\"], columns=df[\"PaymentMethod\"])\n",
    "churn_paymeth_df  #/churn_paymeth_df.sum()"
   ]
  },
  {
   "cell_type": "code",
   "execution_count": null,
   "metadata": {
    "collapsed": true
   },
   "outputs": [],
   "source": [
    "churn_paymeth_df.plot(kind=\"barh\", figsize=(6,4), stacked=True)"
   ]
  },
  {
   "cell_type": "code",
   "execution_count": null,
   "metadata": {
    "collapsed": true
   },
   "outputs": [],
   "source": []
  }
 ],
 "metadata": {
  "kernelspec": {
   "display_name": "Python 3",
   "language": "python",
   "name": "python3"
  },
  "language_info": {
   "codemirror_mode": {
    "name": "ipython",
    "version": 3
   },
   "file_extension": ".py",
   "mimetype": "text/x-python",
   "name": "python",
   "nbconvert_exporter": "python",
   "pygments_lexer": "ipython3",
   "version": "3.6.1"
  }
 },
 "nbformat": 4,
 "nbformat_minor": 2
}
